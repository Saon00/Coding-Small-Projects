{
  "nbformat": 4,
  "nbformat_minor": 0,
  "metadata": {
    "colab": {
      "provenance": []
    },
    "kernelspec": {
      "name": "python3",
      "display_name": "Python 3"
    },
    "language_info": {
      "name": "python"
    }
  },
  "cells": [
    {
      "cell_type": "code",
      "execution_count": 65,
      "metadata": {
        "id": "IKr7gUdU8W-D",
        "colab": {
          "base_uri": "https://localhost:8080/"
        },
        "outputId": "2d56c72c-2a5b-40f9-d1d3-edcbe47db577"
      },
      "outputs": [
        {
          "output_type": "stream",
          "name": "stdout",
          "text": [
            "Drive already mounted at /content/drive; to attempt to forcibly remount, call drive.mount(\"/content/drive\", force_remount=True).\n"
          ]
        }
      ],
      "source": [
        "import pandas as pd # data processing, csv file I/O\n",
        "from google.colab import drive\n",
        "drive.mount('/content/drive')"
      ]
    },
    {
      "cell_type": "code",
      "source": [
        "# for getting the file from my Google Drive\n",
        "data_path = '/content/drive/My Drive/Thesis/CVD_dataset.csv'"
      ],
      "metadata": {
        "id": "7c_B99NWySpW"
      },
      "execution_count": 66,
      "outputs": []
    },
    {
      "cell_type": "code",
      "source": [
        "# Read the data from the CSV file\n",
        "data = pd.read_csv(data_path)\n",
        "data.head()"
      ],
      "metadata": {
        "id": "Td2mFSkaySx7",
        "colab": {
          "base_uri": "https://localhost:8080/",
          "height": 226
        },
        "outputId": "e286cdcd-1787-421a-e4f4-9a870eb516dc"
      },
      "execution_count": 67,
      "outputs": [
        {
          "output_type": "execute_result",
          "data": {
            "text/plain": [
              "  General_Health Exercise Skin_Cancer Other_Cancer Depression Diabetes  \\\n",
              "0           Poor       No          No           No         No       No   \n",
              "1      Very Good       No          No           No         No      Yes   \n",
              "2      Very Good      Yes          No           No         No      Yes   \n",
              "3           Poor      Yes          No           No         No      Yes   \n",
              "4           Good       No          No           No         No       No   \n",
              "\n",
              "  Arthritis     Sex Age_Category  Height_(cm)  Weight_(kg)    BMI  \\\n",
              "0       Yes  Female        70-74          150        32.66  14.54   \n",
              "1        No  Female        70-74          165        77.11  28.29   \n",
              "2        No  Female        60-64          163        88.45  33.47   \n",
              "3        No    Male        75-79          180        93.44  28.73   \n",
              "4        No    Male          80+          191        88.45  24.37   \n",
              "\n",
              "  Smoking_History  Alcohol_Consumption  Fruit_Consumption  \\\n",
              "0             Yes                    0                 30   \n",
              "1              No                    0                 30   \n",
              "2              No                    4                 12   \n",
              "3              No                    0                 30   \n",
              "4             Yes                    0                  8   \n",
              "\n",
              "   Green_Vegetables_Consumption Heart_Disease  \n",
              "0                            16            No  \n",
              "1                             0           Yes  \n",
              "2                             3            No  \n",
              "3                            30           Yes  \n",
              "4                             4            No  "
            ],
            "text/html": [
              "\n",
              "  <div id=\"df-a82b89a5-f3f2-4b77-849f-d2aab724030b\" class=\"colab-df-container\">\n",
              "    <div>\n",
              "<style scoped>\n",
              "    .dataframe tbody tr th:only-of-type {\n",
              "        vertical-align: middle;\n",
              "    }\n",
              "\n",
              "    .dataframe tbody tr th {\n",
              "        vertical-align: top;\n",
              "    }\n",
              "\n",
              "    .dataframe thead th {\n",
              "        text-align: right;\n",
              "    }\n",
              "</style>\n",
              "<table border=\"1\" class=\"dataframe\">\n",
              "  <thead>\n",
              "    <tr style=\"text-align: right;\">\n",
              "      <th></th>\n",
              "      <th>General_Health</th>\n",
              "      <th>Exercise</th>\n",
              "      <th>Skin_Cancer</th>\n",
              "      <th>Other_Cancer</th>\n",
              "      <th>Depression</th>\n",
              "      <th>Diabetes</th>\n",
              "      <th>Arthritis</th>\n",
              "      <th>Sex</th>\n",
              "      <th>Age_Category</th>\n",
              "      <th>Height_(cm)</th>\n",
              "      <th>Weight_(kg)</th>\n",
              "      <th>BMI</th>\n",
              "      <th>Smoking_History</th>\n",
              "      <th>Alcohol_Consumption</th>\n",
              "      <th>Fruit_Consumption</th>\n",
              "      <th>Green_Vegetables_Consumption</th>\n",
              "      <th>Heart_Disease</th>\n",
              "    </tr>\n",
              "  </thead>\n",
              "  <tbody>\n",
              "    <tr>\n",
              "      <th>0</th>\n",
              "      <td>Poor</td>\n",
              "      <td>No</td>\n",
              "      <td>No</td>\n",
              "      <td>No</td>\n",
              "      <td>No</td>\n",
              "      <td>No</td>\n",
              "      <td>Yes</td>\n",
              "      <td>Female</td>\n",
              "      <td>70-74</td>\n",
              "      <td>150</td>\n",
              "      <td>32.66</td>\n",
              "      <td>14.54</td>\n",
              "      <td>Yes</td>\n",
              "      <td>0</td>\n",
              "      <td>30</td>\n",
              "      <td>16</td>\n",
              "      <td>No</td>\n",
              "    </tr>\n",
              "    <tr>\n",
              "      <th>1</th>\n",
              "      <td>Very Good</td>\n",
              "      <td>No</td>\n",
              "      <td>No</td>\n",
              "      <td>No</td>\n",
              "      <td>No</td>\n",
              "      <td>Yes</td>\n",
              "      <td>No</td>\n",
              "      <td>Female</td>\n",
              "      <td>70-74</td>\n",
              "      <td>165</td>\n",
              "      <td>77.11</td>\n",
              "      <td>28.29</td>\n",
              "      <td>No</td>\n",
              "      <td>0</td>\n",
              "      <td>30</td>\n",
              "      <td>0</td>\n",
              "      <td>Yes</td>\n",
              "    </tr>\n",
              "    <tr>\n",
              "      <th>2</th>\n",
              "      <td>Very Good</td>\n",
              "      <td>Yes</td>\n",
              "      <td>No</td>\n",
              "      <td>No</td>\n",
              "      <td>No</td>\n",
              "      <td>Yes</td>\n",
              "      <td>No</td>\n",
              "      <td>Female</td>\n",
              "      <td>60-64</td>\n",
              "      <td>163</td>\n",
              "      <td>88.45</td>\n",
              "      <td>33.47</td>\n",
              "      <td>No</td>\n",
              "      <td>4</td>\n",
              "      <td>12</td>\n",
              "      <td>3</td>\n",
              "      <td>No</td>\n",
              "    </tr>\n",
              "    <tr>\n",
              "      <th>3</th>\n",
              "      <td>Poor</td>\n",
              "      <td>Yes</td>\n",
              "      <td>No</td>\n",
              "      <td>No</td>\n",
              "      <td>No</td>\n",
              "      <td>Yes</td>\n",
              "      <td>No</td>\n",
              "      <td>Male</td>\n",
              "      <td>75-79</td>\n",
              "      <td>180</td>\n",
              "      <td>93.44</td>\n",
              "      <td>28.73</td>\n",
              "      <td>No</td>\n",
              "      <td>0</td>\n",
              "      <td>30</td>\n",
              "      <td>30</td>\n",
              "      <td>Yes</td>\n",
              "    </tr>\n",
              "    <tr>\n",
              "      <th>4</th>\n",
              "      <td>Good</td>\n",
              "      <td>No</td>\n",
              "      <td>No</td>\n",
              "      <td>No</td>\n",
              "      <td>No</td>\n",
              "      <td>No</td>\n",
              "      <td>No</td>\n",
              "      <td>Male</td>\n",
              "      <td>80+</td>\n",
              "      <td>191</td>\n",
              "      <td>88.45</td>\n",
              "      <td>24.37</td>\n",
              "      <td>Yes</td>\n",
              "      <td>0</td>\n",
              "      <td>8</td>\n",
              "      <td>4</td>\n",
              "      <td>No</td>\n",
              "    </tr>\n",
              "  </tbody>\n",
              "</table>\n",
              "</div>\n",
              "    <div class=\"colab-df-buttons\">\n",
              "\n",
              "  <div class=\"colab-df-container\">\n",
              "    <button class=\"colab-df-convert\" onclick=\"convertToInteractive('df-a82b89a5-f3f2-4b77-849f-d2aab724030b')\"\n",
              "            title=\"Convert this dataframe to an interactive table.\"\n",
              "            style=\"display:none;\">\n",
              "\n",
              "  <svg xmlns=\"http://www.w3.org/2000/svg\" height=\"24px\" viewBox=\"0 -960 960 960\">\n",
              "    <path d=\"M120-120v-720h720v720H120Zm60-500h600v-160H180v160Zm220 220h160v-160H400v160Zm0 220h160v-160H400v160ZM180-400h160v-160H180v160Zm440 0h160v-160H620v160ZM180-180h160v-160H180v160Zm440 0h160v-160H620v160Z\"/>\n",
              "  </svg>\n",
              "    </button>\n",
              "\n",
              "  <style>\n",
              "    .colab-df-container {\n",
              "      display:flex;\n",
              "      gap: 12px;\n",
              "    }\n",
              "\n",
              "    .colab-df-convert {\n",
              "      background-color: #E8F0FE;\n",
              "      border: none;\n",
              "      border-radius: 50%;\n",
              "      cursor: pointer;\n",
              "      display: none;\n",
              "      fill: #1967D2;\n",
              "      height: 32px;\n",
              "      padding: 0 0 0 0;\n",
              "      width: 32px;\n",
              "    }\n",
              "\n",
              "    .colab-df-convert:hover {\n",
              "      background-color: #E2EBFA;\n",
              "      box-shadow: 0px 1px 2px rgba(60, 64, 67, 0.3), 0px 1px 3px 1px rgba(60, 64, 67, 0.15);\n",
              "      fill: #174EA6;\n",
              "    }\n",
              "\n",
              "    .colab-df-buttons div {\n",
              "      margin-bottom: 4px;\n",
              "    }\n",
              "\n",
              "    [theme=dark] .colab-df-convert {\n",
              "      background-color: #3B4455;\n",
              "      fill: #D2E3FC;\n",
              "    }\n",
              "\n",
              "    [theme=dark] .colab-df-convert:hover {\n",
              "      background-color: #434B5C;\n",
              "      box-shadow: 0px 1px 3px 1px rgba(0, 0, 0, 0.15);\n",
              "      filter: drop-shadow(0px 1px 2px rgba(0, 0, 0, 0.3));\n",
              "      fill: #FFFFFF;\n",
              "    }\n",
              "  </style>\n",
              "\n",
              "    <script>\n",
              "      const buttonEl =\n",
              "        document.querySelector('#df-a82b89a5-f3f2-4b77-849f-d2aab724030b button.colab-df-convert');\n",
              "      buttonEl.style.display =\n",
              "        google.colab.kernel.accessAllowed ? 'block' : 'none';\n",
              "\n",
              "      async function convertToInteractive(key) {\n",
              "        const element = document.querySelector('#df-a82b89a5-f3f2-4b77-849f-d2aab724030b');\n",
              "        const dataTable =\n",
              "          await google.colab.kernel.invokeFunction('convertToInteractive',\n",
              "                                                    [key], {});\n",
              "        if (!dataTable) return;\n",
              "\n",
              "        const docLinkHtml = 'Like what you see? Visit the ' +\n",
              "          '<a target=\"_blank\" href=https://colab.research.google.com/notebooks/data_table.ipynb>data table notebook</a>'\n",
              "          + ' to learn more about interactive tables.';\n",
              "        element.innerHTML = '';\n",
              "        dataTable['output_type'] = 'display_data';\n",
              "        await google.colab.output.renderOutput(dataTable, element);\n",
              "        const docLink = document.createElement('div');\n",
              "        docLink.innerHTML = docLinkHtml;\n",
              "        element.appendChild(docLink);\n",
              "      }\n",
              "    </script>\n",
              "  </div>\n",
              "\n",
              "\n",
              "<div id=\"df-b940b0d6-5fb6-4d52-b918-a8bfe4f4d1a4\">\n",
              "  <button class=\"colab-df-quickchart\" onclick=\"quickchart('df-b940b0d6-5fb6-4d52-b918-a8bfe4f4d1a4')\"\n",
              "            title=\"Suggest charts\"\n",
              "            style=\"display:none;\">\n",
              "\n",
              "<svg xmlns=\"http://www.w3.org/2000/svg\" height=\"24px\"viewBox=\"0 0 24 24\"\n",
              "     width=\"24px\">\n",
              "    <g>\n",
              "        <path d=\"M19 3H5c-1.1 0-2 .9-2 2v14c0 1.1.9 2 2 2h14c1.1 0 2-.9 2-2V5c0-1.1-.9-2-2-2zM9 17H7v-7h2v7zm4 0h-2V7h2v10zm4 0h-2v-4h2v4z\"/>\n",
              "    </g>\n",
              "</svg>\n",
              "  </button>\n",
              "\n",
              "<style>\n",
              "  .colab-df-quickchart {\n",
              "      --bg-color: #E8F0FE;\n",
              "      --fill-color: #1967D2;\n",
              "      --hover-bg-color: #E2EBFA;\n",
              "      --hover-fill-color: #174EA6;\n",
              "      --disabled-fill-color: #AAA;\n",
              "      --disabled-bg-color: #DDD;\n",
              "  }\n",
              "\n",
              "  [theme=dark] .colab-df-quickchart {\n",
              "      --bg-color: #3B4455;\n",
              "      --fill-color: #D2E3FC;\n",
              "      --hover-bg-color: #434B5C;\n",
              "      --hover-fill-color: #FFFFFF;\n",
              "      --disabled-bg-color: #3B4455;\n",
              "      --disabled-fill-color: #666;\n",
              "  }\n",
              "\n",
              "  .colab-df-quickchart {\n",
              "    background-color: var(--bg-color);\n",
              "    border: none;\n",
              "    border-radius: 50%;\n",
              "    cursor: pointer;\n",
              "    display: none;\n",
              "    fill: var(--fill-color);\n",
              "    height: 32px;\n",
              "    padding: 0;\n",
              "    width: 32px;\n",
              "  }\n",
              "\n",
              "  .colab-df-quickchart:hover {\n",
              "    background-color: var(--hover-bg-color);\n",
              "    box-shadow: 0 1px 2px rgba(60, 64, 67, 0.3), 0 1px 3px 1px rgba(60, 64, 67, 0.15);\n",
              "    fill: var(--button-hover-fill-color);\n",
              "  }\n",
              "\n",
              "  .colab-df-quickchart-complete:disabled,\n",
              "  .colab-df-quickchart-complete:disabled:hover {\n",
              "    background-color: var(--disabled-bg-color);\n",
              "    fill: var(--disabled-fill-color);\n",
              "    box-shadow: none;\n",
              "  }\n",
              "\n",
              "  .colab-df-spinner {\n",
              "    border: 2px solid var(--fill-color);\n",
              "    border-color: transparent;\n",
              "    border-bottom-color: var(--fill-color);\n",
              "    animation:\n",
              "      spin 1s steps(1) infinite;\n",
              "  }\n",
              "\n",
              "  @keyframes spin {\n",
              "    0% {\n",
              "      border-color: transparent;\n",
              "      border-bottom-color: var(--fill-color);\n",
              "      border-left-color: var(--fill-color);\n",
              "    }\n",
              "    20% {\n",
              "      border-color: transparent;\n",
              "      border-left-color: var(--fill-color);\n",
              "      border-top-color: var(--fill-color);\n",
              "    }\n",
              "    30% {\n",
              "      border-color: transparent;\n",
              "      border-left-color: var(--fill-color);\n",
              "      border-top-color: var(--fill-color);\n",
              "      border-right-color: var(--fill-color);\n",
              "    }\n",
              "    40% {\n",
              "      border-color: transparent;\n",
              "      border-right-color: var(--fill-color);\n",
              "      border-top-color: var(--fill-color);\n",
              "    }\n",
              "    60% {\n",
              "      border-color: transparent;\n",
              "      border-right-color: var(--fill-color);\n",
              "    }\n",
              "    80% {\n",
              "      border-color: transparent;\n",
              "      border-right-color: var(--fill-color);\n",
              "      border-bottom-color: var(--fill-color);\n",
              "    }\n",
              "    90% {\n",
              "      border-color: transparent;\n",
              "      border-bottom-color: var(--fill-color);\n",
              "    }\n",
              "  }\n",
              "</style>\n",
              "\n",
              "  <script>\n",
              "    async function quickchart(key) {\n",
              "      const quickchartButtonEl =\n",
              "        document.querySelector('#' + key + ' button');\n",
              "      quickchartButtonEl.disabled = true;  // To prevent multiple clicks.\n",
              "      quickchartButtonEl.classList.add('colab-df-spinner');\n",
              "      try {\n",
              "        const charts = await google.colab.kernel.invokeFunction(\n",
              "            'suggestCharts', [key], {});\n",
              "      } catch (error) {\n",
              "        console.error('Error during call to suggestCharts:', error);\n",
              "      }\n",
              "      quickchartButtonEl.classList.remove('colab-df-spinner');\n",
              "      quickchartButtonEl.classList.add('colab-df-quickchart-complete');\n",
              "    }\n",
              "    (() => {\n",
              "      let quickchartButtonEl =\n",
              "        document.querySelector('#df-b940b0d6-5fb6-4d52-b918-a8bfe4f4d1a4 button');\n",
              "      quickchartButtonEl.style.display =\n",
              "        google.colab.kernel.accessAllowed ? 'block' : 'none';\n",
              "    })();\n",
              "  </script>\n",
              "</div>\n",
              "\n",
              "    </div>\n",
              "  </div>\n"
            ],
            "application/vnd.google.colaboratory.intrinsic+json": {
              "type": "dataframe",
              "variable_name": "data"
            }
          },
          "metadata": {},
          "execution_count": 67
        }
      ]
    },
    {
      "cell_type": "code",
      "source": [
        "data.info()"
      ],
      "metadata": {
        "id": "Cn6UQk9Oyd0X",
        "colab": {
          "base_uri": "https://localhost:8080/"
        },
        "outputId": "14b14c8b-2bb1-4728-877a-341abaaa1a40"
      },
      "execution_count": 68,
      "outputs": [
        {
          "output_type": "stream",
          "name": "stdout",
          "text": [
            "<class 'pandas.core.frame.DataFrame'>\n",
            "RangeIndex: 308854 entries, 0 to 308853\n",
            "Data columns (total 17 columns):\n",
            " #   Column                        Non-Null Count   Dtype  \n",
            "---  ------                        --------------   -----  \n",
            " 0   General_Health                308854 non-null  object \n",
            " 1   Exercise                      308854 non-null  object \n",
            " 2   Skin_Cancer                   308854 non-null  object \n",
            " 3   Other_Cancer                  308854 non-null  object \n",
            " 4   Depression                    308854 non-null  object \n",
            " 5   Diabetes                      308854 non-null  object \n",
            " 6   Arthritis                     308854 non-null  object \n",
            " 7   Sex                           308854 non-null  object \n",
            " 8   Age_Category                  308854 non-null  object \n",
            " 9   Height_(cm)                   308854 non-null  int64  \n",
            " 10  Weight_(kg)                   308854 non-null  float64\n",
            " 11  BMI                           308854 non-null  float64\n",
            " 12  Smoking_History               308854 non-null  object \n",
            " 13  Alcohol_Consumption           308854 non-null  int64  \n",
            " 14  Fruit_Consumption             308854 non-null  int64  \n",
            " 15  Green_Vegetables_Consumption  308854 non-null  int64  \n",
            " 16  Heart_Disease                 308854 non-null  object \n",
            "dtypes: float64(2), int64(4), object(11)\n",
            "memory usage: 40.1+ MB\n"
          ]
        }
      ]
    },
    {
      "cell_type": "code",
      "source": [
        "data.isnull().sum() # finding is there any null data"
      ],
      "metadata": {
        "id": "kH1JFu6b1vFO",
        "colab": {
          "base_uri": "https://localhost:8080/"
        },
        "outputId": "9adf86df-2a77-4763-ddf2-0d2b8e26d40d"
      },
      "execution_count": 69,
      "outputs": [
        {
          "output_type": "execute_result",
          "data": {
            "text/plain": [
              "General_Health                  0\n",
              "Exercise                        0\n",
              "Skin_Cancer                     0\n",
              "Other_Cancer                    0\n",
              "Depression                      0\n",
              "Diabetes                        0\n",
              "Arthritis                       0\n",
              "Sex                             0\n",
              "Age_Category                    0\n",
              "Height_(cm)                     0\n",
              "Weight_(kg)                     0\n",
              "BMI                             0\n",
              "Smoking_History                 0\n",
              "Alcohol_Consumption             0\n",
              "Fruit_Consumption               0\n",
              "Green_Vegetables_Consumption    0\n",
              "Heart_Disease                   0\n",
              "dtype: int64"
            ]
          },
          "metadata": {},
          "execution_count": 69
        }
      ]
    },
    {
      "cell_type": "code",
      "source": [
        "data.duplicated().sum() # finding is there any duplicate data"
      ],
      "metadata": {
        "id": "01BIxo2U13Fq",
        "colab": {
          "base_uri": "https://localhost:8080/"
        },
        "outputId": "cf255817-4bd4-4f6a-f86e-07277cb22c9c"
      },
      "execution_count": 70,
      "outputs": [
        {
          "output_type": "execute_result",
          "data": {
            "text/plain": [
              "784"
            ]
          },
          "metadata": {},
          "execution_count": 70
        }
      ]
    },
    {
      "cell_type": "code",
      "source": [
        "# data.nunique()"
      ],
      "metadata": {
        "id": "Ocy-25X618Jr"
      },
      "execution_count": 71,
      "outputs": []
    },
    {
      "cell_type": "code",
      "source": [
        "data_without_duplicates = data.drop_duplicates(keep='first') # delete duplicate values and keep the first one\n",
        "data_without_duplicates.info() # new data info after merging duplicate data"
      ],
      "metadata": {
        "id": "-XbzZnGE2EzP",
        "colab": {
          "base_uri": "https://localhost:8080/"
        },
        "outputId": "d87235c5-c608-4c85-ed93-e0fcb9bedb8b"
      },
      "execution_count": 72,
      "outputs": [
        {
          "output_type": "stream",
          "name": "stdout",
          "text": [
            "<class 'pandas.core.frame.DataFrame'>\n",
            "Index: 308070 entries, 0 to 308853\n",
            "Data columns (total 17 columns):\n",
            " #   Column                        Non-Null Count   Dtype  \n",
            "---  ------                        --------------   -----  \n",
            " 0   General_Health                308070 non-null  object \n",
            " 1   Exercise                      308070 non-null  object \n",
            " 2   Skin_Cancer                   308070 non-null  object \n",
            " 3   Other_Cancer                  308070 non-null  object \n",
            " 4   Depression                    308070 non-null  object \n",
            " 5   Diabetes                      308070 non-null  object \n",
            " 6   Arthritis                     308070 non-null  object \n",
            " 7   Sex                           308070 non-null  object \n",
            " 8   Age_Category                  308070 non-null  object \n",
            " 9   Height_(cm)                   308070 non-null  int64  \n",
            " 10  Weight_(kg)                   308070 non-null  float64\n",
            " 11  BMI                           308070 non-null  float64\n",
            " 12  Smoking_History               308070 non-null  object \n",
            " 13  Alcohol_Consumption           308070 non-null  int64  \n",
            " 14  Fruit_Consumption             308070 non-null  int64  \n",
            " 15  Green_Vegetables_Consumption  308070 non-null  int64  \n",
            " 16  Heart_Disease                 308070 non-null  object \n",
            "dtypes: float64(2), int64(4), object(11)\n",
            "memory usage: 42.3+ MB\n"
          ]
        }
      ]
    },
    {
      "cell_type": "code",
      "source": [
        "from sklearn.preprocessing import LabelEncoder\n",
        "encoder = LabelEncoder()"
      ],
      "metadata": {
        "id": "xOfHnmWMCfHG"
      },
      "execution_count": 73,
      "outputs": []
    },
    {
      "cell_type": "code",
      "source": [
        "# Label Encoding (where data are non neumerical and more than binary statement)\n",
        "\n",
        "# categorical_columns = ['General_Health', 'Smoking_History', 'Alcohol_Consumption', 'Fruit_Consumption', 'Green_Vegetables_Consumption', 'Sex', 'Age_Category', 'Diabetes', 'Exercise', 'Skin_Cancer', 'Other_Cancer', 'Depression', 'Arthritis', 'Heart_Disease']\n",
        "for col in data_without_duplicates.columns:\n",
        "    data_without_duplicates[col] = encoder.fit_transform(data_without_duplicates[col])\n",
        "\n",
        "# col = data_without_duplicates.columns\n",
        "# # solved this problem: https://pandas.pydata.org/pandas-docs/stable/user_guide/indexing.html#returning-a-view-versus-a-copy\n",
        "# def encode_column(data_without_duplicates, col, encoder):\n",
        "#   data_without_duplicates.loc[:, col] = encoder.fit_transform(data_without_duplicates[col])\n",
        "\n",
        "data_without_duplicates"
      ],
      "metadata": {
        "id": "sN7ybVb-OUcj",
        "colab": {
          "base_uri": "https://localhost:8080/",
          "height": 1000
        },
        "outputId": "e670cb5f-4387-4d43-92a9-cbfc8e30f55c"
      },
      "execution_count": 74,
      "outputs": [
        {
          "output_type": "stream",
          "name": "stderr",
          "text": [
            "<ipython-input-74-c0cf08a6f5b5>:5: SettingWithCopyWarning: \n",
            "A value is trying to be set on a copy of a slice from a DataFrame.\n",
            "Try using .loc[row_indexer,col_indexer] = value instead\n",
            "\n",
            "See the caveats in the documentation: https://pandas.pydata.org/pandas-docs/stable/user_guide/indexing.html#returning-a-view-versus-a-copy\n",
            "  data_without_duplicates[col] = encoder.fit_transform(data_without_duplicates[col])\n",
            "<ipython-input-74-c0cf08a6f5b5>:5: SettingWithCopyWarning: \n",
            "A value is trying to be set on a copy of a slice from a DataFrame.\n",
            "Try using .loc[row_indexer,col_indexer] = value instead\n",
            "\n",
            "See the caveats in the documentation: https://pandas.pydata.org/pandas-docs/stable/user_guide/indexing.html#returning-a-view-versus-a-copy\n",
            "  data_without_duplicates[col] = encoder.fit_transform(data_without_duplicates[col])\n",
            "<ipython-input-74-c0cf08a6f5b5>:5: SettingWithCopyWarning: \n",
            "A value is trying to be set on a copy of a slice from a DataFrame.\n",
            "Try using .loc[row_indexer,col_indexer] = value instead\n",
            "\n",
            "See the caveats in the documentation: https://pandas.pydata.org/pandas-docs/stable/user_guide/indexing.html#returning-a-view-versus-a-copy\n",
            "  data_without_duplicates[col] = encoder.fit_transform(data_without_duplicates[col])\n",
            "<ipython-input-74-c0cf08a6f5b5>:5: SettingWithCopyWarning: \n",
            "A value is trying to be set on a copy of a slice from a DataFrame.\n",
            "Try using .loc[row_indexer,col_indexer] = value instead\n",
            "\n",
            "See the caveats in the documentation: https://pandas.pydata.org/pandas-docs/stable/user_guide/indexing.html#returning-a-view-versus-a-copy\n",
            "  data_without_duplicates[col] = encoder.fit_transform(data_without_duplicates[col])\n",
            "<ipython-input-74-c0cf08a6f5b5>:5: SettingWithCopyWarning: \n",
            "A value is trying to be set on a copy of a slice from a DataFrame.\n",
            "Try using .loc[row_indexer,col_indexer] = value instead\n",
            "\n",
            "See the caveats in the documentation: https://pandas.pydata.org/pandas-docs/stable/user_guide/indexing.html#returning-a-view-versus-a-copy\n",
            "  data_without_duplicates[col] = encoder.fit_transform(data_without_duplicates[col])\n",
            "<ipython-input-74-c0cf08a6f5b5>:5: SettingWithCopyWarning: \n",
            "A value is trying to be set on a copy of a slice from a DataFrame.\n",
            "Try using .loc[row_indexer,col_indexer] = value instead\n",
            "\n",
            "See the caveats in the documentation: https://pandas.pydata.org/pandas-docs/stable/user_guide/indexing.html#returning-a-view-versus-a-copy\n",
            "  data_without_duplicates[col] = encoder.fit_transform(data_without_duplicates[col])\n",
            "<ipython-input-74-c0cf08a6f5b5>:5: SettingWithCopyWarning: \n",
            "A value is trying to be set on a copy of a slice from a DataFrame.\n",
            "Try using .loc[row_indexer,col_indexer] = value instead\n",
            "\n",
            "See the caveats in the documentation: https://pandas.pydata.org/pandas-docs/stable/user_guide/indexing.html#returning-a-view-versus-a-copy\n",
            "  data_without_duplicates[col] = encoder.fit_transform(data_without_duplicates[col])\n",
            "<ipython-input-74-c0cf08a6f5b5>:5: SettingWithCopyWarning: \n",
            "A value is trying to be set on a copy of a slice from a DataFrame.\n",
            "Try using .loc[row_indexer,col_indexer] = value instead\n",
            "\n",
            "See the caveats in the documentation: https://pandas.pydata.org/pandas-docs/stable/user_guide/indexing.html#returning-a-view-versus-a-copy\n",
            "  data_without_duplicates[col] = encoder.fit_transform(data_without_duplicates[col])\n",
            "<ipython-input-74-c0cf08a6f5b5>:5: SettingWithCopyWarning: \n",
            "A value is trying to be set on a copy of a slice from a DataFrame.\n",
            "Try using .loc[row_indexer,col_indexer] = value instead\n",
            "\n",
            "See the caveats in the documentation: https://pandas.pydata.org/pandas-docs/stable/user_guide/indexing.html#returning-a-view-versus-a-copy\n",
            "  data_without_duplicates[col] = encoder.fit_transform(data_without_duplicates[col])\n",
            "<ipython-input-74-c0cf08a6f5b5>:5: SettingWithCopyWarning: \n",
            "A value is trying to be set on a copy of a slice from a DataFrame.\n",
            "Try using .loc[row_indexer,col_indexer] = value instead\n",
            "\n",
            "See the caveats in the documentation: https://pandas.pydata.org/pandas-docs/stable/user_guide/indexing.html#returning-a-view-versus-a-copy\n",
            "  data_without_duplicates[col] = encoder.fit_transform(data_without_duplicates[col])\n",
            "<ipython-input-74-c0cf08a6f5b5>:5: SettingWithCopyWarning: \n",
            "A value is trying to be set on a copy of a slice from a DataFrame.\n",
            "Try using .loc[row_indexer,col_indexer] = value instead\n",
            "\n",
            "See the caveats in the documentation: https://pandas.pydata.org/pandas-docs/stable/user_guide/indexing.html#returning-a-view-versus-a-copy\n",
            "  data_without_duplicates[col] = encoder.fit_transform(data_without_duplicates[col])\n",
            "<ipython-input-74-c0cf08a6f5b5>:5: SettingWithCopyWarning: \n",
            "A value is trying to be set on a copy of a slice from a DataFrame.\n",
            "Try using .loc[row_indexer,col_indexer] = value instead\n",
            "\n",
            "See the caveats in the documentation: https://pandas.pydata.org/pandas-docs/stable/user_guide/indexing.html#returning-a-view-versus-a-copy\n",
            "  data_without_duplicates[col] = encoder.fit_transform(data_without_duplicates[col])\n",
            "<ipython-input-74-c0cf08a6f5b5>:5: SettingWithCopyWarning: \n",
            "A value is trying to be set on a copy of a slice from a DataFrame.\n",
            "Try using .loc[row_indexer,col_indexer] = value instead\n",
            "\n",
            "See the caveats in the documentation: https://pandas.pydata.org/pandas-docs/stable/user_guide/indexing.html#returning-a-view-versus-a-copy\n",
            "  data_without_duplicates[col] = encoder.fit_transform(data_without_duplicates[col])\n",
            "<ipython-input-74-c0cf08a6f5b5>:5: SettingWithCopyWarning: \n",
            "A value is trying to be set on a copy of a slice from a DataFrame.\n",
            "Try using .loc[row_indexer,col_indexer] = value instead\n",
            "\n",
            "See the caveats in the documentation: https://pandas.pydata.org/pandas-docs/stable/user_guide/indexing.html#returning-a-view-versus-a-copy\n",
            "  data_without_duplicates[col] = encoder.fit_transform(data_without_duplicates[col])\n",
            "<ipython-input-74-c0cf08a6f5b5>:5: SettingWithCopyWarning: \n",
            "A value is trying to be set on a copy of a slice from a DataFrame.\n",
            "Try using .loc[row_indexer,col_indexer] = value instead\n",
            "\n",
            "See the caveats in the documentation: https://pandas.pydata.org/pandas-docs/stable/user_guide/indexing.html#returning-a-view-versus-a-copy\n",
            "  data_without_duplicates[col] = encoder.fit_transform(data_without_duplicates[col])\n",
            "<ipython-input-74-c0cf08a6f5b5>:5: SettingWithCopyWarning: \n",
            "A value is trying to be set on a copy of a slice from a DataFrame.\n",
            "Try using .loc[row_indexer,col_indexer] = value instead\n",
            "\n",
            "See the caveats in the documentation: https://pandas.pydata.org/pandas-docs/stable/user_guide/indexing.html#returning-a-view-versus-a-copy\n",
            "  data_without_duplicates[col] = encoder.fit_transform(data_without_duplicates[col])\n",
            "<ipython-input-74-c0cf08a6f5b5>:5: SettingWithCopyWarning: \n",
            "A value is trying to be set on a copy of a slice from a DataFrame.\n",
            "Try using .loc[row_indexer,col_indexer] = value instead\n",
            "\n",
            "See the caveats in the documentation: https://pandas.pydata.org/pandas-docs/stable/user_guide/indexing.html#returning-a-view-versus-a-copy\n",
            "  data_without_duplicates[col] = encoder.fit_transform(data_without_duplicates[col])\n"
          ]
        },
        {
          "output_type": "execute_result",
          "data": {
            "text/plain": [
              "        General_Health  Exercise  Skin_Cancer  Other_Cancer  Depression  \\\n",
              "0                    3         0            0             0           0   \n",
              "1                    4         0            0             0           0   \n",
              "2                    4         1            0             0           0   \n",
              "3                    3         1            0             0           0   \n",
              "4                    2         0            0             0           0   \n",
              "...                ...       ...          ...           ...         ...   \n",
              "308849               4         1            0             0           0   \n",
              "308850               1         1            0             0           0   \n",
              "308851               4         1            0             0           1   \n",
              "308852               4         1            0             0           0   \n",
              "308853               0         1            0             0           0   \n",
              "\n",
              "        Diabetes  Arthritis  Sex  Age_Category  Height_(cm)  Weight_(kg)  \\\n",
              "0              0          1    0            10           36            9   \n",
              "1              2          0    0            10           51          145   \n",
              "2              2          0    0             8           49          180   \n",
              "3              2          0    1            11           66          195   \n",
              "4              0          0    1            12           77          180   \n",
              "...          ...        ...  ...           ...          ...          ...   \n",
              "308849         0          0    1             1           54          159   \n",
              "308850         2          0    1             9           66          121   \n",
              "308851         3          0    0             2           43           94   \n",
              "308852         0          0    1             9           69          152   \n",
              "308853         0          0    0             5           46          158   \n",
              "\n",
              "         BMI  Smoking_History  Alcohol_Consumption  Fruit_Consumption  \\\n",
              "0         77                1                    0                 30   \n",
              "1       1226                0                    0                 30   \n",
              "2       1682                0                    4                 12   \n",
              "3       1267                0                    0                 30   \n",
              "4        868                1                    0                  8   \n",
              "...      ...              ...                  ...                ...   \n",
              "308849  1295                0                    4                 30   \n",
              "308850   604                0                    8                 15   \n",
              "308851   898                1                    4                 40   \n",
              "308852   810                0                    3                 30   \n",
              "308853  1531                0                    1                  5   \n",
              "\n",
              "        Green_Vegetables_Consumption  Heart_Disease  \n",
              "0                                 16              0  \n",
              "1                                  0              1  \n",
              "2                                  3              0  \n",
              "3                                 30              1  \n",
              "4                                  4              0  \n",
              "...                              ...            ...  \n",
              "308849                             8              0  \n",
              "308850                            48              0  \n",
              "308851                             8              0  \n",
              "308852                            12              0  \n",
              "308853                            12              0  \n",
              "\n",
              "[308070 rows x 17 columns]"
            ],
            "text/html": [
              "\n",
              "  <div id=\"df-8699604e-34a0-4cbe-acc3-f5b25d63d307\" class=\"colab-df-container\">\n",
              "    <div>\n",
              "<style scoped>\n",
              "    .dataframe tbody tr th:only-of-type {\n",
              "        vertical-align: middle;\n",
              "    }\n",
              "\n",
              "    .dataframe tbody tr th {\n",
              "        vertical-align: top;\n",
              "    }\n",
              "\n",
              "    .dataframe thead th {\n",
              "        text-align: right;\n",
              "    }\n",
              "</style>\n",
              "<table border=\"1\" class=\"dataframe\">\n",
              "  <thead>\n",
              "    <tr style=\"text-align: right;\">\n",
              "      <th></th>\n",
              "      <th>General_Health</th>\n",
              "      <th>Exercise</th>\n",
              "      <th>Skin_Cancer</th>\n",
              "      <th>Other_Cancer</th>\n",
              "      <th>Depression</th>\n",
              "      <th>Diabetes</th>\n",
              "      <th>Arthritis</th>\n",
              "      <th>Sex</th>\n",
              "      <th>Age_Category</th>\n",
              "      <th>Height_(cm)</th>\n",
              "      <th>Weight_(kg)</th>\n",
              "      <th>BMI</th>\n",
              "      <th>Smoking_History</th>\n",
              "      <th>Alcohol_Consumption</th>\n",
              "      <th>Fruit_Consumption</th>\n",
              "      <th>Green_Vegetables_Consumption</th>\n",
              "      <th>Heart_Disease</th>\n",
              "    </tr>\n",
              "  </thead>\n",
              "  <tbody>\n",
              "    <tr>\n",
              "      <th>0</th>\n",
              "      <td>3</td>\n",
              "      <td>0</td>\n",
              "      <td>0</td>\n",
              "      <td>0</td>\n",
              "      <td>0</td>\n",
              "      <td>0</td>\n",
              "      <td>1</td>\n",
              "      <td>0</td>\n",
              "      <td>10</td>\n",
              "      <td>36</td>\n",
              "      <td>9</td>\n",
              "      <td>77</td>\n",
              "      <td>1</td>\n",
              "      <td>0</td>\n",
              "      <td>30</td>\n",
              "      <td>16</td>\n",
              "      <td>0</td>\n",
              "    </tr>\n",
              "    <tr>\n",
              "      <th>1</th>\n",
              "      <td>4</td>\n",
              "      <td>0</td>\n",
              "      <td>0</td>\n",
              "      <td>0</td>\n",
              "      <td>0</td>\n",
              "      <td>2</td>\n",
              "      <td>0</td>\n",
              "      <td>0</td>\n",
              "      <td>10</td>\n",
              "      <td>51</td>\n",
              "      <td>145</td>\n",
              "      <td>1226</td>\n",
              "      <td>0</td>\n",
              "      <td>0</td>\n",
              "      <td>30</td>\n",
              "      <td>0</td>\n",
              "      <td>1</td>\n",
              "    </tr>\n",
              "    <tr>\n",
              "      <th>2</th>\n",
              "      <td>4</td>\n",
              "      <td>1</td>\n",
              "      <td>0</td>\n",
              "      <td>0</td>\n",
              "      <td>0</td>\n",
              "      <td>2</td>\n",
              "      <td>0</td>\n",
              "      <td>0</td>\n",
              "      <td>8</td>\n",
              "      <td>49</td>\n",
              "      <td>180</td>\n",
              "      <td>1682</td>\n",
              "      <td>0</td>\n",
              "      <td>4</td>\n",
              "      <td>12</td>\n",
              "      <td>3</td>\n",
              "      <td>0</td>\n",
              "    </tr>\n",
              "    <tr>\n",
              "      <th>3</th>\n",
              "      <td>3</td>\n",
              "      <td>1</td>\n",
              "      <td>0</td>\n",
              "      <td>0</td>\n",
              "      <td>0</td>\n",
              "      <td>2</td>\n",
              "      <td>0</td>\n",
              "      <td>1</td>\n",
              "      <td>11</td>\n",
              "      <td>66</td>\n",
              "      <td>195</td>\n",
              "      <td>1267</td>\n",
              "      <td>0</td>\n",
              "      <td>0</td>\n",
              "      <td>30</td>\n",
              "      <td>30</td>\n",
              "      <td>1</td>\n",
              "    </tr>\n",
              "    <tr>\n",
              "      <th>4</th>\n",
              "      <td>2</td>\n",
              "      <td>0</td>\n",
              "      <td>0</td>\n",
              "      <td>0</td>\n",
              "      <td>0</td>\n",
              "      <td>0</td>\n",
              "      <td>0</td>\n",
              "      <td>1</td>\n",
              "      <td>12</td>\n",
              "      <td>77</td>\n",
              "      <td>180</td>\n",
              "      <td>868</td>\n",
              "      <td>1</td>\n",
              "      <td>0</td>\n",
              "      <td>8</td>\n",
              "      <td>4</td>\n",
              "      <td>0</td>\n",
              "    </tr>\n",
              "    <tr>\n",
              "      <th>...</th>\n",
              "      <td>...</td>\n",
              "      <td>...</td>\n",
              "      <td>...</td>\n",
              "      <td>...</td>\n",
              "      <td>...</td>\n",
              "      <td>...</td>\n",
              "      <td>...</td>\n",
              "      <td>...</td>\n",
              "      <td>...</td>\n",
              "      <td>...</td>\n",
              "      <td>...</td>\n",
              "      <td>...</td>\n",
              "      <td>...</td>\n",
              "      <td>...</td>\n",
              "      <td>...</td>\n",
              "      <td>...</td>\n",
              "      <td>...</td>\n",
              "    </tr>\n",
              "    <tr>\n",
              "      <th>308849</th>\n",
              "      <td>4</td>\n",
              "      <td>1</td>\n",
              "      <td>0</td>\n",
              "      <td>0</td>\n",
              "      <td>0</td>\n",
              "      <td>0</td>\n",
              "      <td>0</td>\n",
              "      <td>1</td>\n",
              "      <td>1</td>\n",
              "      <td>54</td>\n",
              "      <td>159</td>\n",
              "      <td>1295</td>\n",
              "      <td>0</td>\n",
              "      <td>4</td>\n",
              "      <td>30</td>\n",
              "      <td>8</td>\n",
              "      <td>0</td>\n",
              "    </tr>\n",
              "    <tr>\n",
              "      <th>308850</th>\n",
              "      <td>1</td>\n",
              "      <td>1</td>\n",
              "      <td>0</td>\n",
              "      <td>0</td>\n",
              "      <td>0</td>\n",
              "      <td>2</td>\n",
              "      <td>0</td>\n",
              "      <td>1</td>\n",
              "      <td>9</td>\n",
              "      <td>66</td>\n",
              "      <td>121</td>\n",
              "      <td>604</td>\n",
              "      <td>0</td>\n",
              "      <td>8</td>\n",
              "      <td>15</td>\n",
              "      <td>48</td>\n",
              "      <td>0</td>\n",
              "    </tr>\n",
              "    <tr>\n",
              "      <th>308851</th>\n",
              "      <td>4</td>\n",
              "      <td>1</td>\n",
              "      <td>0</td>\n",
              "      <td>0</td>\n",
              "      <td>1</td>\n",
              "      <td>3</td>\n",
              "      <td>0</td>\n",
              "      <td>0</td>\n",
              "      <td>2</td>\n",
              "      <td>43</td>\n",
              "      <td>94</td>\n",
              "      <td>898</td>\n",
              "      <td>1</td>\n",
              "      <td>4</td>\n",
              "      <td>40</td>\n",
              "      <td>8</td>\n",
              "      <td>0</td>\n",
              "    </tr>\n",
              "    <tr>\n",
              "      <th>308852</th>\n",
              "      <td>4</td>\n",
              "      <td>1</td>\n",
              "      <td>0</td>\n",
              "      <td>0</td>\n",
              "      <td>0</td>\n",
              "      <td>0</td>\n",
              "      <td>0</td>\n",
              "      <td>1</td>\n",
              "      <td>9</td>\n",
              "      <td>69</td>\n",
              "      <td>152</td>\n",
              "      <td>810</td>\n",
              "      <td>0</td>\n",
              "      <td>3</td>\n",
              "      <td>30</td>\n",
              "      <td>12</td>\n",
              "      <td>0</td>\n",
              "    </tr>\n",
              "    <tr>\n",
              "      <th>308853</th>\n",
              "      <td>0</td>\n",
              "      <td>1</td>\n",
              "      <td>0</td>\n",
              "      <td>0</td>\n",
              "      <td>0</td>\n",
              "      <td>0</td>\n",
              "      <td>0</td>\n",
              "      <td>0</td>\n",
              "      <td>5</td>\n",
              "      <td>46</td>\n",
              "      <td>158</td>\n",
              "      <td>1531</td>\n",
              "      <td>0</td>\n",
              "      <td>1</td>\n",
              "      <td>5</td>\n",
              "      <td>12</td>\n",
              "      <td>0</td>\n",
              "    </tr>\n",
              "  </tbody>\n",
              "</table>\n",
              "<p>308070 rows × 17 columns</p>\n",
              "</div>\n",
              "    <div class=\"colab-df-buttons\">\n",
              "\n",
              "  <div class=\"colab-df-container\">\n",
              "    <button class=\"colab-df-convert\" onclick=\"convertToInteractive('df-8699604e-34a0-4cbe-acc3-f5b25d63d307')\"\n",
              "            title=\"Convert this dataframe to an interactive table.\"\n",
              "            style=\"display:none;\">\n",
              "\n",
              "  <svg xmlns=\"http://www.w3.org/2000/svg\" height=\"24px\" viewBox=\"0 -960 960 960\">\n",
              "    <path d=\"M120-120v-720h720v720H120Zm60-500h600v-160H180v160Zm220 220h160v-160H400v160Zm0 220h160v-160H400v160ZM180-400h160v-160H180v160Zm440 0h160v-160H620v160ZM180-180h160v-160H180v160Zm440 0h160v-160H620v160Z\"/>\n",
              "  </svg>\n",
              "    </button>\n",
              "\n",
              "  <style>\n",
              "    .colab-df-container {\n",
              "      display:flex;\n",
              "      gap: 12px;\n",
              "    }\n",
              "\n",
              "    .colab-df-convert {\n",
              "      background-color: #E8F0FE;\n",
              "      border: none;\n",
              "      border-radius: 50%;\n",
              "      cursor: pointer;\n",
              "      display: none;\n",
              "      fill: #1967D2;\n",
              "      height: 32px;\n",
              "      padding: 0 0 0 0;\n",
              "      width: 32px;\n",
              "    }\n",
              "\n",
              "    .colab-df-convert:hover {\n",
              "      background-color: #E2EBFA;\n",
              "      box-shadow: 0px 1px 2px rgba(60, 64, 67, 0.3), 0px 1px 3px 1px rgba(60, 64, 67, 0.15);\n",
              "      fill: #174EA6;\n",
              "    }\n",
              "\n",
              "    .colab-df-buttons div {\n",
              "      margin-bottom: 4px;\n",
              "    }\n",
              "\n",
              "    [theme=dark] .colab-df-convert {\n",
              "      background-color: #3B4455;\n",
              "      fill: #D2E3FC;\n",
              "    }\n",
              "\n",
              "    [theme=dark] .colab-df-convert:hover {\n",
              "      background-color: #434B5C;\n",
              "      box-shadow: 0px 1px 3px 1px rgba(0, 0, 0, 0.15);\n",
              "      filter: drop-shadow(0px 1px 2px rgba(0, 0, 0, 0.3));\n",
              "      fill: #FFFFFF;\n",
              "    }\n",
              "  </style>\n",
              "\n",
              "    <script>\n",
              "      const buttonEl =\n",
              "        document.querySelector('#df-8699604e-34a0-4cbe-acc3-f5b25d63d307 button.colab-df-convert');\n",
              "      buttonEl.style.display =\n",
              "        google.colab.kernel.accessAllowed ? 'block' : 'none';\n",
              "\n",
              "      async function convertToInteractive(key) {\n",
              "        const element = document.querySelector('#df-8699604e-34a0-4cbe-acc3-f5b25d63d307');\n",
              "        const dataTable =\n",
              "          await google.colab.kernel.invokeFunction('convertToInteractive',\n",
              "                                                    [key], {});\n",
              "        if (!dataTable) return;\n",
              "\n",
              "        const docLinkHtml = 'Like what you see? Visit the ' +\n",
              "          '<a target=\"_blank\" href=https://colab.research.google.com/notebooks/data_table.ipynb>data table notebook</a>'\n",
              "          + ' to learn more about interactive tables.';\n",
              "        element.innerHTML = '';\n",
              "        dataTable['output_type'] = 'display_data';\n",
              "        await google.colab.output.renderOutput(dataTable, element);\n",
              "        const docLink = document.createElement('div');\n",
              "        docLink.innerHTML = docLinkHtml;\n",
              "        element.appendChild(docLink);\n",
              "      }\n",
              "    </script>\n",
              "  </div>\n",
              "\n",
              "\n",
              "<div id=\"df-47a6a38d-8722-40e5-a912-b01168669a1e\">\n",
              "  <button class=\"colab-df-quickchart\" onclick=\"quickchart('df-47a6a38d-8722-40e5-a912-b01168669a1e')\"\n",
              "            title=\"Suggest charts\"\n",
              "            style=\"display:none;\">\n",
              "\n",
              "<svg xmlns=\"http://www.w3.org/2000/svg\" height=\"24px\"viewBox=\"0 0 24 24\"\n",
              "     width=\"24px\">\n",
              "    <g>\n",
              "        <path d=\"M19 3H5c-1.1 0-2 .9-2 2v14c0 1.1.9 2 2 2h14c1.1 0 2-.9 2-2V5c0-1.1-.9-2-2-2zM9 17H7v-7h2v7zm4 0h-2V7h2v10zm4 0h-2v-4h2v4z\"/>\n",
              "    </g>\n",
              "</svg>\n",
              "  </button>\n",
              "\n",
              "<style>\n",
              "  .colab-df-quickchart {\n",
              "      --bg-color: #E8F0FE;\n",
              "      --fill-color: #1967D2;\n",
              "      --hover-bg-color: #E2EBFA;\n",
              "      --hover-fill-color: #174EA6;\n",
              "      --disabled-fill-color: #AAA;\n",
              "      --disabled-bg-color: #DDD;\n",
              "  }\n",
              "\n",
              "  [theme=dark] .colab-df-quickchart {\n",
              "      --bg-color: #3B4455;\n",
              "      --fill-color: #D2E3FC;\n",
              "      --hover-bg-color: #434B5C;\n",
              "      --hover-fill-color: #FFFFFF;\n",
              "      --disabled-bg-color: #3B4455;\n",
              "      --disabled-fill-color: #666;\n",
              "  }\n",
              "\n",
              "  .colab-df-quickchart {\n",
              "    background-color: var(--bg-color);\n",
              "    border: none;\n",
              "    border-radius: 50%;\n",
              "    cursor: pointer;\n",
              "    display: none;\n",
              "    fill: var(--fill-color);\n",
              "    height: 32px;\n",
              "    padding: 0;\n",
              "    width: 32px;\n",
              "  }\n",
              "\n",
              "  .colab-df-quickchart:hover {\n",
              "    background-color: var(--hover-bg-color);\n",
              "    box-shadow: 0 1px 2px rgba(60, 64, 67, 0.3), 0 1px 3px 1px rgba(60, 64, 67, 0.15);\n",
              "    fill: var(--button-hover-fill-color);\n",
              "  }\n",
              "\n",
              "  .colab-df-quickchart-complete:disabled,\n",
              "  .colab-df-quickchart-complete:disabled:hover {\n",
              "    background-color: var(--disabled-bg-color);\n",
              "    fill: var(--disabled-fill-color);\n",
              "    box-shadow: none;\n",
              "  }\n",
              "\n",
              "  .colab-df-spinner {\n",
              "    border: 2px solid var(--fill-color);\n",
              "    border-color: transparent;\n",
              "    border-bottom-color: var(--fill-color);\n",
              "    animation:\n",
              "      spin 1s steps(1) infinite;\n",
              "  }\n",
              "\n",
              "  @keyframes spin {\n",
              "    0% {\n",
              "      border-color: transparent;\n",
              "      border-bottom-color: var(--fill-color);\n",
              "      border-left-color: var(--fill-color);\n",
              "    }\n",
              "    20% {\n",
              "      border-color: transparent;\n",
              "      border-left-color: var(--fill-color);\n",
              "      border-top-color: var(--fill-color);\n",
              "    }\n",
              "    30% {\n",
              "      border-color: transparent;\n",
              "      border-left-color: var(--fill-color);\n",
              "      border-top-color: var(--fill-color);\n",
              "      border-right-color: var(--fill-color);\n",
              "    }\n",
              "    40% {\n",
              "      border-color: transparent;\n",
              "      border-right-color: var(--fill-color);\n",
              "      border-top-color: var(--fill-color);\n",
              "    }\n",
              "    60% {\n",
              "      border-color: transparent;\n",
              "      border-right-color: var(--fill-color);\n",
              "    }\n",
              "    80% {\n",
              "      border-color: transparent;\n",
              "      border-right-color: var(--fill-color);\n",
              "      border-bottom-color: var(--fill-color);\n",
              "    }\n",
              "    90% {\n",
              "      border-color: transparent;\n",
              "      border-bottom-color: var(--fill-color);\n",
              "    }\n",
              "  }\n",
              "</style>\n",
              "\n",
              "  <script>\n",
              "    async function quickchart(key) {\n",
              "      const quickchartButtonEl =\n",
              "        document.querySelector('#' + key + ' button');\n",
              "      quickchartButtonEl.disabled = true;  // To prevent multiple clicks.\n",
              "      quickchartButtonEl.classList.add('colab-df-spinner');\n",
              "      try {\n",
              "        const charts = await google.colab.kernel.invokeFunction(\n",
              "            'suggestCharts', [key], {});\n",
              "      } catch (error) {\n",
              "        console.error('Error during call to suggestCharts:', error);\n",
              "      }\n",
              "      quickchartButtonEl.classList.remove('colab-df-spinner');\n",
              "      quickchartButtonEl.classList.add('colab-df-quickchart-complete');\n",
              "    }\n",
              "    (() => {\n",
              "      let quickchartButtonEl =\n",
              "        document.querySelector('#df-47a6a38d-8722-40e5-a912-b01168669a1e button');\n",
              "      quickchartButtonEl.style.display =\n",
              "        google.colab.kernel.accessAllowed ? 'block' : 'none';\n",
              "    })();\n",
              "  </script>\n",
              "</div>\n",
              "\n",
              "  <div id=\"id_0637e0b5-1304-4175-b289-86e1accbefc7\">\n",
              "    <style>\n",
              "      .colab-df-generate {\n",
              "        background-color: #E8F0FE;\n",
              "        border: none;\n",
              "        border-radius: 50%;\n",
              "        cursor: pointer;\n",
              "        display: none;\n",
              "        fill: #1967D2;\n",
              "        height: 32px;\n",
              "        padding: 0 0 0 0;\n",
              "        width: 32px;\n",
              "      }\n",
              "\n",
              "      .colab-df-generate:hover {\n",
              "        background-color: #E2EBFA;\n",
              "        box-shadow: 0px 1px 2px rgba(60, 64, 67, 0.3), 0px 1px 3px 1px rgba(60, 64, 67, 0.15);\n",
              "        fill: #174EA6;\n",
              "      }\n",
              "\n",
              "      [theme=dark] .colab-df-generate {\n",
              "        background-color: #3B4455;\n",
              "        fill: #D2E3FC;\n",
              "      }\n",
              "\n",
              "      [theme=dark] .colab-df-generate:hover {\n",
              "        background-color: #434B5C;\n",
              "        box-shadow: 0px 1px 3px 1px rgba(0, 0, 0, 0.15);\n",
              "        filter: drop-shadow(0px 1px 2px rgba(0, 0, 0, 0.3));\n",
              "        fill: #FFFFFF;\n",
              "      }\n",
              "    </style>\n",
              "    <button class=\"colab-df-generate\" onclick=\"generateWithVariable('data_without_duplicates')\"\n",
              "            title=\"Generate code using this dataframe.\"\n",
              "            style=\"display:none;\">\n",
              "\n",
              "  <svg xmlns=\"http://www.w3.org/2000/svg\" height=\"24px\"viewBox=\"0 0 24 24\"\n",
              "       width=\"24px\">\n",
              "    <path d=\"M7,19H8.4L18.45,9,17,7.55,7,17.6ZM5,21V16.75L18.45,3.32a2,2,0,0,1,2.83,0l1.4,1.43a1.91,1.91,0,0,1,.58,1.4,1.91,1.91,0,0,1-.58,1.4L9.25,21ZM18.45,9,17,7.55Zm-12,3A5.31,5.31,0,0,0,4.9,8.1,5.31,5.31,0,0,0,1,6.5,5.31,5.31,0,0,0,4.9,4.9,5.31,5.31,0,0,0,6.5,1,5.31,5.31,0,0,0,8.1,4.9,5.31,5.31,0,0,0,12,6.5,5.46,5.46,0,0,0,6.5,12Z\"/>\n",
              "  </svg>\n",
              "    </button>\n",
              "    <script>\n",
              "      (() => {\n",
              "      const buttonEl =\n",
              "        document.querySelector('#id_0637e0b5-1304-4175-b289-86e1accbefc7 button.colab-df-generate');\n",
              "      buttonEl.style.display =\n",
              "        google.colab.kernel.accessAllowed ? 'block' : 'none';\n",
              "\n",
              "      buttonEl.onclick = () => {\n",
              "        google.colab.notebook.generateWithVariable('data_without_duplicates');\n",
              "      }\n",
              "      })();\n",
              "    </script>\n",
              "  </div>\n",
              "\n",
              "    </div>\n",
              "  </div>\n"
            ],
            "application/vnd.google.colaboratory.intrinsic+json": {
              "type": "dataframe",
              "variable_name": "data_without_duplicates"
            }
          },
          "metadata": {},
          "execution_count": 74
        }
      ]
    },
    {
      "cell_type": "code",
      "source": [
        "# from sklearn.preprocessing import OneHotEncoder\n",
        "# oneHatencoder = OneHotEncoder(sparse=False)  # Set sparse=False for easier handling"
      ],
      "metadata": {
        "id": "wLD8U9QRRJ-S"
      },
      "execution_count": 75,
      "outputs": []
    },
    {
      "cell_type": "code",
      "source": [
        "# categorical_columns = ['Exercise', 'Skin_Cancer', 'Other_Cancer', 'Depression', 'Arthritis', 'Heart_Disease']\n",
        "# data_without_duplicates = pd.get_dummies(data_without_duplicates, columns=categorical_columns)\n",
        "# data_without_duplicates"
      ],
      "metadata": {
        "id": "iEqFjP7ZT_VH"
      },
      "execution_count": 76,
      "outputs": []
    },
    {
      "cell_type": "code",
      "source": [
        "data_without_duplicates.info()"
      ],
      "metadata": {
        "id": "IMEr5GzLUkUU",
        "colab": {
          "base_uri": "https://localhost:8080/"
        },
        "outputId": "3840b3e7-9ecd-44e1-a0ba-1194d254281a"
      },
      "execution_count": 77,
      "outputs": [
        {
          "output_type": "stream",
          "name": "stdout",
          "text": [
            "<class 'pandas.core.frame.DataFrame'>\n",
            "Index: 308070 entries, 0 to 308853\n",
            "Data columns (total 17 columns):\n",
            " #   Column                        Non-Null Count   Dtype\n",
            "---  ------                        --------------   -----\n",
            " 0   General_Health                308070 non-null  int64\n",
            " 1   Exercise                      308070 non-null  int64\n",
            " 2   Skin_Cancer                   308070 non-null  int64\n",
            " 3   Other_Cancer                  308070 non-null  int64\n",
            " 4   Depression                    308070 non-null  int64\n",
            " 5   Diabetes                      308070 non-null  int64\n",
            " 6   Arthritis                     308070 non-null  int64\n",
            " 7   Sex                           308070 non-null  int64\n",
            " 8   Age_Category                  308070 non-null  int64\n",
            " 9   Height_(cm)                   308070 non-null  int64\n",
            " 10  Weight_(kg)                   308070 non-null  int64\n",
            " 11  BMI                           308070 non-null  int64\n",
            " 12  Smoking_History               308070 non-null  int64\n",
            " 13  Alcohol_Consumption           308070 non-null  int64\n",
            " 14  Fruit_Consumption             308070 non-null  int64\n",
            " 15  Green_Vegetables_Consumption  308070 non-null  int64\n",
            " 16  Heart_Disease                 308070 non-null  int64\n",
            "dtypes: int64(17)\n",
            "memory usage: 42.3 MB\n"
          ]
        }
      ]
    },
    {
      "cell_type": "code",
      "source": [
        "# copied the actual data into data_count so that if i replace the encoded values that doesn't effect the actual data frame\n",
        "data_count = data_without_duplicates.copy()"
      ],
      "metadata": {
        "id": "TUe5grItKghV"
      },
      "execution_count": 78,
      "outputs": []
    },
    {
      "cell_type": "code",
      "source": [
        "import matplotlib.pyplot as plt"
      ],
      "metadata": {
        "id": "9ik_oGcNbN2R"
      },
      "execution_count": 79,
      "outputs": []
    },
    {
      "cell_type": "code",
      "source": [
        "data_count['Sex'] = data_count['Sex'].replace({\n",
        "    0 : \"Femlae\", 1 : \"Male\"\n",
        "})\n",
        "\n",
        "gender_count = data_count['Sex'].value_counts()\n",
        "print('Number of Total Female and Male')\n",
        "gender_count"
      ],
      "metadata": {
        "id": "CEcB44pChFtn",
        "colab": {
          "base_uri": "https://localhost:8080/"
        },
        "outputId": "63cc9ca2-87f2-439e-ea7c-b58e870ac317"
      },
      "execution_count": 80,
      "outputs": [
        {
          "output_type": "stream",
          "name": "stdout",
          "text": [
            "Number of Total Female and Male\n"
          ]
        },
        {
          "output_type": "execute_result",
          "data": {
            "text/plain": [
              "Sex\n",
              "Femlae    159738\n",
              "Male      148332\n",
              "Name: count, dtype: int64"
            ]
          },
          "metadata": {},
          "execution_count": 80
        }
      ]
    },
    {
      "cell_type": "code",
      "source": [
        "# gender_disease_groups = data_without_duplicates.groupby(['Sex', 'Heart_Disease']).size().unstack()"
      ],
      "metadata": {
        "id": "mXJgO-AjhTta"
      },
      "execution_count": 81,
      "outputs": []
    },
    {
      "cell_type": "code",
      "source": [
        "# gender_disease_groups.plot(kind='bar', stacked=False)\n",
        "# plt.xlabel('Gender')\n",
        "# plt.ylabel('Count')\n",
        "# plt.title('Heart Disease Status by Gender')\n",
        "# plt.legend(title='Heart Disease', labels=['No Disease', 'Disease'])\n",
        "# plt.xticks(rotation=0)  # Rotate x-labels if needed\n",
        "# plt.show()"
      ],
      "metadata": {
        "id": "knq6cETx0bKe"
      },
      "execution_count": 82,
      "outputs": []
    },
    {
      "cell_type": "code",
      "source": [
        "gender_group = data_without_duplicates.groupby('Sex')\n",
        "risk_by_gender = gender_group['Heart_Disease'].mean()\n",
        "gender_group_names = {\n",
        "   0 : \"Femlae\", 1 : \"Male\"\n",
        "}\n",
        "plt.bar(gender_group_names.values(), risk_by_gender.values)\n",
        "plt.xlabel('Sex')\n",
        "plt.ylabel('Risk of Heart Disease')\n",
        "plt.title('Risk of Heart Disease by Gender Category')\n",
        "plt.xticks(rotation=90)\n",
        "plt.show()"
      ],
      "metadata": {
        "id": "2Yzk8qLlOe0f",
        "colab": {
          "base_uri": "https://localhost:8080/",
          "height": 508
        },
        "outputId": "8263a016-cc77-4262-a37e-5efd59be31f2"
      },
      "execution_count": 83,
      "outputs": [
        {
          "output_type": "display_data",
          "data": {
            "text/plain": [
              "<Figure size 640x480 with 1 Axes>"
            ],
            "image/png": "[encoded data removed]"
          },
          "metadata": {}
        }
      ]
    },
    {
      "cell_type": "code",
      "source": [
        "# relation betweeen age catagory and heart diseases.\n",
        "\n",
        "data_count['Age_Category'] = data_count['Age_Category'].replace({\n",
        "     0: \"18 to 24\",\n",
        "    1: \"25 to 29\",\n",
        "    2: \"30 to 34\",\n",
        "    3: \"35 to 39\",\n",
        "    4: \"40 to 44\",\n",
        "    5: \"45 to 49\",\n",
        "    6: \"50 to 54\",\n",
        "    7: \"55 to 59\",\n",
        "    8: \"60 to 64\",\n",
        "    9: \"65 to 69\",\n",
        "    10: \"70 to 74\",\n",
        "    11: \"75 to 79\",\n",
        "    12: \"80 or older\"\n",
        "})\n",
        "age_count = data_count['Age_Category'].value_counts().sort_values()\n",
        "print('Number of People According to their Age (Sorted)')\n",
        "age_count"
      ],
      "metadata": {
        "id": "5TWwymhiEBqs",
        "colab": {
          "base_uri": "https://localhost:8080/"
        },
        "outputId": "b469f3bf-9601-4611-928f-ebe309f72cd8"
      },
      "execution_count": 84,
      "outputs": [
        {
          "output_type": "stream",
          "name": "stdout",
          "text": [
            "Number of People According to their Age (Sorted)\n"
          ]
        },
        {
          "output_type": "execute_result",
          "data": {
            "text/plain": [
              "Age_Category\n",
              "25 to 29       15456\n",
              "30 to 34       18359\n",
              "18 to 24       18570\n",
              "35 to 39       20554\n",
              "75 to 79       20676\n",
              "45 to 49       20903\n",
              "40 to 44       21532\n",
              "80 or older    22227\n",
              "50 to 54       25024\n",
              "55 to 59       28000\n",
              "70 to 74       31063\n",
              "60 to 64       32350\n",
              "65 to 69       33356\n",
              "Name: count, dtype: int64"
            ]
          },
          "metadata": {},
          "execution_count": 84
        }
      ]
    },
    {
      "cell_type": "code",
      "source": [
        "age_group = data_without_duplicates.groupby('Age_Category')\n",
        "risk_by_age = age_group['Heart_Disease'].mean()\n",
        "age_group_names = {\n",
        "    0: \"18 to 24\",\n",
        "    1: \"25 to 29\",\n",
        "    2: \"30 to 34\",\n",
        "    3: \"35 to 39\",\n",
        "    4: \"40 to 44\",\n",
        "    5: \"45 to 49\",\n",
        "    6: \"50 to 54\",\n",
        "    7: \"55 to 59\",\n",
        "    8: \"60 to 64\",\n",
        "    9: \"65 to 69\",\n",
        "    10: \"70 to 74\",\n",
        "    11: \"75 to 79\",\n",
        "    12: \"80 or older\",\n",
        "}\n",
        "plt.bar(age_group_names.values(), risk_by_age.values)\n",
        "plt.xlabel('Age Category')\n",
        "plt.ylabel('Risk of Heart Disease')\n",
        "plt.title('Risk of Heart Disease by Age Category')\n",
        "plt.xticks(rotation=90)\n",
        "plt.show()"
      ],
      "metadata": {
        "id": "5x65gqNA0ugf",
        "colab": {
          "base_uri": "https://localhost:8080/",
          "height": 534
        },
        "outputId": "e1d1617a-fe17-4178-eceb-d53e811620d5"
      },
      "execution_count": 85,
      "outputs": [
        {
          "output_type": "display_data",
          "data": {
            "text/plain": [
              "<Figure size 640x480 with 1 Axes>"
            ],
            "image/png": "[encoded data removed]"
          },
          "metadata": {}
        }
      ]
    },
    {
      "cell_type": "code",
      "source": [
        "# relation betweeen General_Health catagory and heart diseases.\n",
        "\n",
        "data_count['General_Health'] = data_count['General_Health'].replace({\n",
        "    0: \"Excellent\",\n",
        "    1: \"Very good\",\n",
        "    2: \"Good\",\n",
        "    3: \"Fair\",\n",
        "    4: \"Poor\"\n",
        "})\n",
        "\n",
        "general_health_count = data_count['General_Health'].value_counts().sort_values()\n",
        "print('Number of People According to their General Health (Sorted)')\n",
        "general_health_count"
      ],
      "metadata": {
        "id": "GEsjaa03Uqa8",
        "colab": {
          "base_uri": "https://localhost:8080/"
        },
        "outputId": "000431a3-02bc-44aa-8f5a-be6bc5e4b658"
      },
      "execution_count": 86,
      "outputs": [
        {
          "output_type": "stream",
          "name": "stdout",
          "text": [
            "Number of People According to their General Health (Sorted)\n"
          ]
        },
        {
          "output_type": "execute_result",
          "data": {
            "text/plain": [
              "General_Health\n",
              "Fair          11331\n",
              "Very good     35800\n",
              "Excellent     55710\n",
              "Good          95226\n",
              "Poor         110003\n",
              "Name: count, dtype: int64"
            ]
          },
          "metadata": {},
          "execution_count": 86
        }
      ]
    },
    {
      "cell_type": "code",
      "source": [
        "general_health_group = data_without_duplicates.groupby('General_Health')\n",
        "risk_by_general_health = general_health_group['Heart_Disease'].mean()\n",
        "general_health_group_names = {\n",
        "    0: \"Excellent\",\n",
        "    1: \"Very good\",\n",
        "    2: \"Good\",\n",
        "    3: \"Fair\",\n",
        "    4: \"Poor\"\n",
        "}\n",
        "plt.bar(general_health_group_names.values(), risk_by_general_health.values)\n",
        "plt.xlabel('General Health Category')\n",
        "plt.ylabel('Risk of Heart Disease')\n",
        "plt.title('Risk of Heart Disease by General Health Category')\n",
        "plt.xticks(rotation=90)\n",
        "plt.show()\n"
      ],
      "metadata": {
        "id": "8zgxZ94BRiKV",
        "colab": {
          "base_uri": "https://localhost:8080/",
          "height": 528
        },
        "outputId": "d0d28426-8832-4c8e-fab2-e2650e181a30"
      },
      "execution_count": 87,
      "outputs": [
        {
          "output_type": "display_data",
          "data": {
            "text/plain": [
              "<Figure size 640x480 with 1 Axes>"
            ],
            "image/png": "[encoded data removed]"
          },
          "metadata": {}
        }
      ]
    },
    {
      "cell_type": "code",
      "source": [
        "# relation betweeen Excercise catagory and heart diseases.\n",
        "\n",
        "data_count['Exercise'] = data_count['Exercise'].replace({\n",
        "    0: \"No\",\n",
        "    1: \"Yes\"\n",
        "})\n",
        "\n",
        "excercise_count = data_count['Exercise'].value_counts().sort_values()\n",
        "print('Number of People According to their Excercise (Sorted)')\n",
        "excercise_count"
      ],
      "metadata": {
        "id": "tG-rn3ete18P",
        "colab": {
          "base_uri": "https://localhost:8080/"
        },
        "outputId": "0734ca2d-c81e-452a-b7b1-ea5979652e99"
      },
      "execution_count": 88,
      "outputs": [
        {
          "output_type": "stream",
          "name": "stdout",
          "text": [
            "Number of People According to their Excercise (Sorted)\n"
          ]
        },
        {
          "output_type": "execute_result",
          "data": {
            "text/plain": [
              "Exercise\n",
              "No      69427\n",
              "Yes    238643\n",
              "Name: count, dtype: int64"
            ]
          },
          "metadata": {},
          "execution_count": 88
        }
      ]
    },
    {
      "cell_type": "code",
      "source": [
        "excercise_group = data_without_duplicates.groupby('Exercise')\n",
        "risk_by_excercise = excercise_group['Heart_Disease'].mean()\n",
        "excercise_group_names = {\n",
        "    0: \"No\",\n",
        "    1: \"Yes\"\n",
        "}\n",
        "plt.bar(excercise_group_names.values(), risk_by_excercise.values)\n",
        "plt.xlabel('Excercise')\n",
        "plt.ylabel('Risk of Heart Disease')\n",
        "plt.title('Risk of Heart Disease by Excercise')\n",
        "plt.xticks(rotation=0)\n",
        "plt.show()\n"
      ],
      "metadata": {
        "id": "qc7-h8A2eccf",
        "colab": {
          "base_uri": "https://localhost:8080/",
          "height": 472
        },
        "outputId": "bf1f8744-9245-4bdc-efb7-3ad82709a01a"
      },
      "execution_count": 89,
      "outputs": [
        {
          "output_type": "display_data",
          "data": {
            "text/plain": [
              "<Figure size 640x480 with 1 Axes>"
            ],
            "image/png": "[encoded data removed]"
          },
          "metadata": {}
        }
      ]
    },
    {
      "cell_type": "code",
      "source": [
        "# relation betweeen Skin_Cancer catagory and heart diseases.\n",
        "\n",
        "data_count['Skin_Cancer'] = data_count['Skin_Cancer'].replace({\n",
        "    0: \"No\",\n",
        "    1: \"Yes\"\n",
        "})\n",
        "\n",
        "skin_cancer_count = data_count['Skin_Cancer'].value_counts().sort_values()\n",
        "print('Number of People According to their Skin_Cancer (Sorted)')\n",
        "skin_cancer_count"
      ],
      "metadata": {
        "id": "9qPliouuMH9X",
        "colab": {
          "base_uri": "https://localhost:8080/"
        },
        "outputId": "41c6498c-5266-4082-927c-f78bbf5c7d5a"
      },
      "execution_count": 90,
      "outputs": [
        {
          "output_type": "stream",
          "name": "stdout",
          "text": [
            "Number of People According to their Skin_Cancer (Sorted)\n"
          ]
        },
        {
          "output_type": "execute_result",
          "data": {
            "text/plain": [
              "Skin_Cancer\n",
              "Yes     29982\n",
              "No     278088\n",
              "Name: count, dtype: int64"
            ]
          },
          "metadata": {},
          "execution_count": 90
        }
      ]
    },
    {
      "cell_type": "code",
      "source": [
        "skin_cancer_group = data_without_duplicates.groupby('Skin_Cancer')\n",
        "risk_by_skin_cancer = skin_cancer_group['Heart_Disease'].mean()\n",
        "skin_cancer_group_names = {\n",
        "    0: \"No\",\n",
        "    1: \"Yes\"\n",
        "}\n",
        "plt.bar(skin_cancer_group_names.values(), risk_by_skin_cancer.values)\n",
        "plt.xlabel('Skin Cancer')\n",
        "plt.ylabel('Risk of Heart Disease')\n",
        "plt.title('Risk of Heart Disease by Skin Cancer')\n",
        "plt.xticks(rotation=0)\n",
        "plt.show()\n"
      ],
      "metadata": {
        "id": "jTYaC2ltNks9",
        "colab": {
          "base_uri": "https://localhost:8080/",
          "height": 472
        },
        "outputId": "f70026b5-9ca5-490b-ac4f-5ac283037fcf"
      },
      "execution_count": 91,
      "outputs": [
        {
          "output_type": "display_data",
          "data": {
            "text/plain": [
              "<Figure size 640x480 with 1 Axes>"
            ],
            "image/png": "[encoded data removed]"
          },
          "metadata": {}
        }
      ]
    },
    {
      "cell_type": "code",
      "source": [
        "# relation betweeen Depression catagory and heart diseases.\n",
        "\n",
        "data_count['Depression'] = data_count['Depression'].replace({\n",
        "    0: \"No\",\n",
        "    1 : 'Yes'\n",
        "})\n",
        "\n",
        "depression_count = data_count['Depression'].value_counts().sort_values()\n",
        "print('Number of People According to their Depression (Sorted)')\n",
        "depression_count"
      ],
      "metadata": {
        "id": "5KyXMcznN_vA",
        "colab": {
          "base_uri": "https://localhost:8080/"
        },
        "outputId": "d5560f34-92c6-43af-cda4-b97df23360f4"
      },
      "execution_count": 92,
      "outputs": [
        {
          "output_type": "stream",
          "name": "stdout",
          "text": [
            "Number of People According to their Depression (Sorted)\n"
          ]
        },
        {
          "output_type": "execute_result",
          "data": {
            "text/plain": [
              "Depression\n",
              "Yes     61884\n",
              "No     246186\n",
              "Name: count, dtype: int64"
            ]
          },
          "metadata": {},
          "execution_count": 92
        }
      ]
    },
    {
      "cell_type": "code",
      "source": [
        "depression_group = data_without_duplicates.groupby('Depression')\n",
        "risk_by_depression = depression_group['Heart_Disease'].mean()\n",
        "\n",
        "depression_group_names = {\n",
        "    0: \"No\",\n",
        "    1: \"Yes\"\n",
        "}\n",
        "plt.bar(depression_group_names.values(), risk_by_depression.values)\n",
        "plt.xlabel('Depression')\n",
        "plt.ylabel('Risk of Heart Disease')\n",
        "plt.title('Risk of Heart Disease by Depression')\n",
        "plt.xticks(rotation=0)\n",
        "plt.show()"
      ],
      "metadata": {
        "id": "R5OeLcAIPZzq",
        "colab": {
          "base_uri": "https://localhost:8080/",
          "height": 472
        },
        "outputId": "58667e8f-048c-494e-c9c1-44ee91c752e6"
      },
      "execution_count": 93,
      "outputs": [
        {
          "output_type": "display_data",
          "data": {
            "text/plain": [
              "<Figure size 640x480 with 1 Axes>"
            ],
            "image/png": "[encoded data removed]"
          },
          "metadata": {}
        }
      ]
    },
    {
      "cell_type": "code",
      "source": [
        "# relation betweeen Smoking_History catagory and heart diseases.\n",
        "\n",
        "data_count['Smoking_History'] = data_count['Smoking_History'].replace({\n",
        "     0: \"No\",\n",
        "    1: \"Yes\"\n",
        "})\n",
        "\n",
        "smoking_count = data_count['Smoking_History'].value_counts().sort_values()\n",
        "print('Number of People According to their Smoking_History (Sorted)')\n",
        "smoking_count"
      ],
      "metadata": {
        "id": "KwHmzjYcRNNt",
        "colab": {
          "base_uri": "https://localhost:8080/"
        },
        "outputId": "43e42e83-c29c-4329-aab9-6aea98ccc6cf"
      },
      "execution_count": 94,
      "outputs": [
        {
          "output_type": "stream",
          "name": "stdout",
          "text": [
            "Number of People According to their Smoking_History (Sorted)\n"
          ]
        },
        {
          "output_type": "execute_result",
          "data": {
            "text/plain": [
              "Smoking_History\n",
              "Yes    125158\n",
              "No     182912\n",
              "Name: count, dtype: int64"
            ]
          },
          "metadata": {},
          "execution_count": 94
        }
      ]
    },
    {
      "cell_type": "code",
      "source": [
        "smoking_group = data_without_duplicates.groupby('Smoking_History')\n",
        "risk_by_smoking = smoking_group['Heart_Disease'].mean()\n",
        "\n",
        "smoking_group_names = {\n",
        "    0: \"No\",\n",
        "    1: \"Yes\"\n",
        "}\n",
        "plt.bar(smoking_group_names.values(), risk_by_smoking.values)\n",
        "plt.xlabel('Smoking_History')\n",
        "plt.ylabel('Risk of Heart Disease')\n",
        "plt.title('Risk of Heart Disease by Smoking_History')\n",
        "plt.xticks(rotation=0)\n",
        "plt.show()"
      ],
      "metadata": {
        "id": "IbyNUqLCZv57",
        "colab": {
          "base_uri": "https://localhost:8080/",
          "height": 472
        },
        "outputId": "ed3d8406-b89b-43de-f2a7-d9bda1fc75f1"
      },
      "execution_count": 95,
      "outputs": [
        {
          "output_type": "display_data",
          "data": {
            "text/plain": [
              "<Figure size 640x480 with 1 Axes>"
            ],
            "image/png": "[encoded data removed]"
          },
          "metadata": {}
        }
      ]
    },
    {
      "cell_type": "code",
      "source": [
        "# relation betweeen Diabetes catagory and heart diseases.\n",
        "\n",
        "data_count['Diabetes'] = data_count['Diabetes'].replace({\n",
        "     0: \"No\",\n",
        "     1: \"No, pre-diabetes or borderline diabetes\",\n",
        "     2: \"Yes\",\n",
        "     3: \"Yes, but female told only during pregnancy\"\n",
        "})\n",
        "\n",
        "diabetes_count = data_count['Diabetes'].value_counts().sort_values()\n",
        "print('Number of People According to their Diabetes (Sorted)')\n",
        "diabetes_count"
      ],
      "metadata": {
        "id": "QA4sspNgdrMQ",
        "colab": {
          "base_uri": "https://localhost:8080/"
        },
        "outputId": "4199fc71-8fc8-430b-f57a-b9b9b88341f0"
      },
      "execution_count": 96,
      "outputs": [
        {
          "output_type": "stream",
          "name": "stdout",
          "text": [
            "Number of People According to their Diabetes (Sorted)\n"
          ]
        },
        {
          "output_type": "execute_result",
          "data": {
            "text/plain": [
              "Diabetes\n",
              "Yes, but female told only during pregnancy      2646\n",
              "No, pre-diabetes or borderline diabetes         6896\n",
              "Yes                                            40160\n",
              "No                                            258368\n",
              "Name: count, dtype: int64"
            ]
          },
          "metadata": {},
          "execution_count": 96
        }
      ]
    },
    {
      "cell_type": "code",
      "source": [
        "diabetes_group = data_without_duplicates.groupby('Diabetes')\n",
        "risk_by_diabetes = diabetes_group['Heart_Disease'].mean()\n",
        "\n",
        "diabetes_group_names = {\n",
        "    0: \"No\",\n",
        "     1: \"No, pre-diabetes\", # No, pre-diabetes or borderline diabetes AS No, pre-diabetes\n",
        "     2: \"Yes\",\n",
        "     3: \"Yes, female during pregnancy\" # Yes, but female told only during pregnancy AS Yes, female during pregnancy\n",
        "}\n",
        "plt.bar(diabetes_group_names.values(), risk_by_diabetes.values)\n",
        "plt.xlabel('Diabetes')\n",
        "plt.ylabel('Risk of Heart Disease')\n",
        "plt.title('Risk of Heart Disease by Diabetes')\n",
        "plt.xticks(rotation=0)\n",
        "plt.show()"
      ],
      "metadata": {
        "id": "st8tEczGdrAG",
        "colab": {
          "base_uri": "https://localhost:8080/",
          "height": 472
        },
        "outputId": "b52ab50a-60a7-4aa8-e27e-e36b21bed133"
      },
      "execution_count": 97,
      "outputs": [
        {
          "output_type": "display_data",
          "data": {
            "text/plain": [
              "<Figure size 640x480 with 1 Axes>"
            ],
            "image/png": "[encoded data removed]"
          },
          "metadata": {}
        }
      ]
    },
    {
      "cell_type": "code",
      "source": [
        "data_without_duplicates.columns"
      ],
      "metadata": {
        "id": "9V9jwwsoebkK",
        "colab": {
          "base_uri": "https://localhost:8080/"
        },
        "outputId": "bb98ccf5-0b4e-4301-fa9d-2c989c51b0f7"
      },
      "execution_count": 98,
      "outputs": [
        {
          "output_type": "execute_result",
          "data": {
            "text/plain": [
              "Index(['General_Health', 'Exercise', 'Skin_Cancer', 'Other_Cancer',\n",
              "       'Depression', 'Diabetes', 'Arthritis', 'Sex', 'Age_Category',\n",
              "       'Height_(cm)', 'Weight_(kg)', 'BMI', 'Smoking_History',\n",
              "       'Alcohol_Consumption', 'Fruit_Consumption',\n",
              "       'Green_Vegetables_Consumption', 'Heart_Disease'],\n",
              "      dtype='object')"
            ]
          },
          "metadata": {},
          "execution_count": 98
        }
      ]
    },
    {
      "cell_type": "code",
      "source": [
        "from sklearn.model_selection import train_test_split, GridSearchCV\n",
        "from sklearn.preprocessing import StandardScaler"
      ],
      "metadata": {
        "id": "CtzVJGAIebrQ"
      },
      "execution_count": 99,
      "outputs": []
    },
    {
      "cell_type": "code",
      "source": [
        "X = data_without_duplicates.drop('Heart_Disease', axis=1) # use all features except target column\n",
        "y = data_without_duplicates['Heart_Disease'] # target data"
      ],
      "metadata": {
        "id": "JV9Jk5Ozebt7"
      },
      "execution_count": 100,
      "outputs": []
    },
    {
      "cell_type": "code",
      "source": [
        "# data split\n",
        "X_train, X_test, y_train, y_test = train_test_split(X, y, test_size=0.2, random_state=42)"
      ],
      "metadata": {
        "id": "HFrCmMdAR8B4"
      },
      "execution_count": 101,
      "outputs": []
    },
    {
      "cell_type": "code",
      "source": [
        "# Feature scaling\n",
        "scaler = StandardScaler()\n",
        "X_train_scaled = scaler.fit_transform(X_train)"
      ],
      "metadata": {
        "id": "xo2X6Baxebwd"
      },
      "execution_count": 102,
      "outputs": []
    },
    {
      "cell_type": "code",
      "source": [
        "!pip install scikeras"
      ],
      "metadata": {
        "id": "__qyreosooeg",
        "colab": {
          "base_uri": "https://localhost:8080/"
        },
        "outputId": "a0876b5b-fac6-4064-d409-510dcfb243b2"
      },
      "execution_count": 103,
      "outputs": [
        {
          "output_type": "stream",
          "name": "stdout",
          "text": [
            "Requirement already satisfied: scikeras in /usr/local/lib/python3.10/dist-packages (0.13.0)\n",
            "Requirement already satisfied: keras>=3.2.0 in /usr/local/lib/python3.10/dist-packages (from scikeras) (3.3.3)\n",
            "Requirement already satisfied: scikit-learn>=1.4.2 in /usr/local/lib/python3.10/dist-packages (from scikeras) (1.4.2)\n",
            "Requirement already satisfied: absl-py in /usr/local/lib/python3.10/dist-packages (from keras>=3.2.0->scikeras) (1.4.0)\n",
            "Requirement already satisfied: numpy in /usr/local/lib/python3.10/dist-packages (from keras>=3.2.0->scikeras) (1.25.2)\n",
            "Requirement already satisfied: rich in /usr/local/lib/python3.10/dist-packages (from keras>=3.2.0->scikeras) (13.7.1)\n",
            "Requirement already satisfied: namex in /usr/local/lib/python3.10/dist-packages (from keras>=3.2.0->scikeras) (0.0.8)\n",
            "Requirement already satisfied: h5py in /usr/local/lib/python3.10/dist-packages (from keras>=3.2.0->scikeras) (3.9.0)\n",
            "Requirement already satisfied: optree in /usr/local/lib/python3.10/dist-packages (from keras>=3.2.0->scikeras) (0.11.0)\n",
            "Requirement already satisfied: ml-dtypes in /usr/local/lib/python3.10/dist-packages (from keras>=3.2.0->scikeras) (0.2.0)\n",
            "Requirement already satisfied: scipy>=1.6.0 in /usr/local/lib/python3.10/dist-packages (from scikit-learn>=1.4.2->scikeras) (1.11.4)\n",
            "Requirement already satisfied: joblib>=1.2.0 in /usr/local/lib/python3.10/dist-packages (from scikit-learn>=1.4.2->scikeras) (1.4.0)\n",
            "Requirement already satisfied: threadpoolctl>=2.0.0 in /usr/local/lib/python3.10/dist-packages (from scikit-learn>=1.4.2->scikeras) (3.4.0)\n",
            "Requirement already satisfied: typing-extensions>=4.0.0 in /usr/local/lib/python3.10/dist-packages (from optree->keras>=3.2.0->scikeras) (4.11.0)\n",
            "Requirement already satisfied: markdown-it-py>=2.2.0 in /usr/local/lib/python3.10/dist-packages (from rich->keras>=3.2.0->scikeras) (3.0.0)\n",
            "Requirement already satisfied: pygments<3.0.0,>=2.13.0 in /usr/local/lib/python3.10/dist-packages (from rich->keras>=3.2.0->scikeras) (2.16.1)\n",
            "Requirement already satisfied: mdurl~=0.1 in /usr/local/lib/python3.10/dist-packages (from markdown-it-py>=2.2.0->rich->keras>=3.2.0->scikeras) (0.1.2)\n"
          ]
        }
      ]
    },
    {
      "cell_type": "code",
      "source": [
        "from tensorflow.keras.models import Sequential\n",
        "from tensorflow.keras.layers import Dense, Dropout\n",
        "from scikeras.wrappers import KerasClassifier\n",
        "# from tensorflow.keras.wrappers.scikit_learn import KerasClassifier"
      ],
      "metadata": {
        "id": "VKrSvsP_TBFX"
      },
      "execution_count": 104,
      "outputs": []
    },
    {
      "cell_type": "code",
      "source": [
        "# function to create the model\n",
        "def create_model(dropout_rate=0.5):\n",
        "    model = Sequential([\n",
        "        Dense(64, activation='relu', input_shape=(X_train.shape[1],)),\n",
        "        Dropout(dropout_rate),\n",
        "        Dense(32, activation='relu'),\n",
        "        Dense(1, activation='sigmoid')\n",
        "    ])\n",
        "    model.compile(optimizer='adam', loss='binary_crossentropy', metrics=['accuracy'])\n",
        "    return model"
      ],
      "metadata": {
        "id": "tKH0qFQzdcga"
      },
      "execution_count": 105,
      "outputs": []
    },
    {
      "cell_type": "code",
      "source": [
        "# Hyperparameter tuning with cross-validation\n",
        "model = KerasClassifier(build_fn=create_model, verbose=2, dropout_rate=0.5)\n",
        "param_dist = {\n",
        "    'batch_size': [32, 64],\n",
        "    'epochs': [10,30],\n",
        "    # 'dropout_rate': [0.3, 0.5, 0.7]\n",
        "}"
      ],
      "metadata": {
        "id": "LDDEj905pabG"
      },
      "execution_count": 106,
      "outputs": []
    },
    {
      "cell_type": "code",
      "source": [
        "from sklearn.model_selection import RandomizedSearchCV\n",
        "from sklearn.metrics import accuracy_score, classification_report\n",
        "from tensorflow.keras.models import Sequential\n",
        "from tensorflow.keras.layers import Dense, Dropout"
      ],
      "metadata": {
        "id": "divvsi5Cpf5X"
      },
      "execution_count": 107,
      "outputs": []
    },
    {
      "cell_type": "code",
      "source": [
        "# def keras_wrapper(dropout_rate=0.5):\n",
        "#     return KerasClassifier(build_fn=lambda: create_model(dropout_rate), verbose=0)\n",
        "\n",
        "# random_search = RandomizedSearchCV(estimator=keras_wrapper(), param_distributions=param_dist, n_iter=10, cv=10, scoring='accuracy', n_jobs=-1)\n",
        "# random_result = random_search.fit(X_train, y_train)\n",
        "\n",
        "random_search = RandomizedSearchCV(estimator=model, param_distributions=param_dist, n_iter=10, cv=10, scoring='accuracy', n_jobs=-1)\n",
        "random_result = random_search.fit(X_train_scaled, y_train)"
      ],
      "metadata": {
        "colab": {
          "base_uri": "https://localhost:8080/"
        },
        "id": "ARJ7vTiApqMP",
        "outputId": "9cb1ee3e-8cec-4845-9dde-0d66bc44b6de"
      },
      "execution_count": null,
      "outputs": [
        {
          "output_type": "stream",
          "name": "stderr",
          "text": [
            "/usr/local/lib/python3.10/dist-packages/sklearn/model_selection/_search.py:318: UserWarning: The total space of parameters 4 is smaller than n_iter=10. Running 4 iterations. For exhaustive searches, use GridSearchCV.\n",
            "  warnings.warn(\n",
            "/usr/local/lib/python3.10/dist-packages/joblib/externals/loky/backend/fork_exec.py:38: RuntimeWarning: os.fork() was called. os.fork() is incompatible with multithreaded code, and JAX is multithreaded, so this will likely lead to a deadlock.\n",
            "  pid = os.fork()\n"
          ]
        }
      ]
    },
    {
      "cell_type": "code",
      "source": [],
      "metadata": {
        "id": "veshqkvLqFkb"
      },
      "execution_count": null,
      "outputs": []
    }
  ]
}